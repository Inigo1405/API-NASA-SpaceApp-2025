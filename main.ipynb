{
 "cells": [
  {
   "cell_type": "markdown",
   "id": "d7de882d",
   "metadata": {},
   "source": [
    "# Análisis Exploratorio de Datos - Exoplanetas NASA/Kepler\n",
    "\n",
    "Este notebook analiza los datos de exoplanetas candidatos y confirmados del telescopio Kepler."
   ]
  },
  {
   "cell_type": "code",
   "execution_count": 51,
   "id": "5732c5d1",
   "metadata": {},
   "outputs": [],
   "source": [
    "import pandas as pd\n",
    "import matplotlib.pyplot as plt\n",
    "import seaborn as sns\n",
    "import numpy as np"
   ]
  },
  {
   "cell_type": "code",
   "execution_count": 52,
   "id": "6086f848",
   "metadata": {},
   "outputs": [
    {
     "name": "stdout",
     "output_type": "stream",
     "text": [
      "<class 'pandas.core.frame.DataFrame'>\n",
      "RangeIndex: 9564 entries, 0 to 9563\n",
      "Data columns (total 64 columns):\n",
      " #   Column             Non-Null Count  Dtype  \n",
      "---  ------             --------------  -----  \n",
      " 0   loc_rowid          9564 non-null   int64  \n",
      " 1   kepid              9564 non-null   int64  \n",
      " 2   koi_disposition    9564 non-null   object \n",
      " 3   koi_pdisposition   9564 non-null   object \n",
      " 4   koi_fpflag_nt      9564 non-null   int64  \n",
      " 5   koi_fpflag_ss      9564 non-null   int64  \n",
      " 6   koi_fpflag_co      9564 non-null   int64  \n",
      " 7   koi_fpflag_ec      9564 non-null   int64  \n",
      " 8   koi_period         9564 non-null   float64\n",
      " 9   koi_period_err1    9110 non-null   float64\n",
      " 10  koi_period_err2    9110 non-null   float64\n",
      " 11  koi_eccen          9201 non-null   float64\n",
      " 12  koi_impact         9201 non-null   float64\n",
      " 13  koi_impact_err1    9110 non-null   float64\n",
      " 14  koi_impact_err2    9110 non-null   float64\n",
      " 15  koi_duration       9564 non-null   float64\n",
      " 16  koi_duration_err1  9110 non-null   float64\n",
      " 17  koi_duration_err2  9110 non-null   float64\n",
      " 18  koi_depth          9201 non-null   float64\n",
      " 19  koi_depth_err1     9110 non-null   float64\n",
      " 20  koi_depth_err2     9110 non-null   float64\n",
      " 21  koi_ror            9201 non-null   float64\n",
      " 22  koi_ror_err1       9201 non-null   float64\n",
      " 23  koi_ror_err2       9201 non-null   float64\n",
      " 24  koi_srho           9243 non-null   float64\n",
      " 25  koi_srho_err1      9243 non-null   float64\n",
      " 26  koi_srho_err2      9243 non-null   float64\n",
      " 27  koi_prad           9201 non-null   float64\n",
      " 28  koi_prad_err1      9201 non-null   float64\n",
      " 29  koi_prad_err2      9201 non-null   float64\n",
      " 30  koi_sma            9201 non-null   float64\n",
      " 31  koi_incl           9200 non-null   float64\n",
      " 32  koi_teq            9201 non-null   float64\n",
      " 33  koi_insol          9243 non-null   float64\n",
      " 34  koi_insol_err1     9243 non-null   float64\n",
      " 35  koi_insol_err2     9243 non-null   float64\n",
      " 36  koi_dor            9201 non-null   float64\n",
      " 37  koi_dor_err1       9110 non-null   float64\n",
      " 38  koi_dor_err2       9110 non-null   float64\n",
      " 39  koi_max_sngle_ev   8422 non-null   float64\n",
      " 40  koi_max_mult_ev    8422 non-null   float64\n",
      " 41  koi_model_snr      9201 non-null   float64\n",
      " 42  koi_count          9564 non-null   int64  \n",
      " 43  koi_num_transits   8422 non-null   float64\n",
      " 44  koi_quarters       8422 non-null   object \n",
      " 45  koi_bin_oedp_sig   8054 non-null   float64\n",
      " 46  koi_steff          9201 non-null   float64\n",
      " 47  koi_steff_err1     9096 non-null   float64\n",
      " 48  koi_steff_err2     9081 non-null   float64\n",
      " 49  koi_slogg          9201 non-null   float64\n",
      " 50  koi_slogg_err1     9096 non-null   float64\n",
      " 51  koi_slogg_err2     9096 non-null   float64\n",
      " 52  koi_smet           9178 non-null   float64\n",
      " 53  koi_smet_err1      9177 non-null   float64\n",
      " 54  koi_smet_err2      9177 non-null   float64\n",
      " 55  koi_srad           9201 non-null   float64\n",
      " 56  koi_srad_err1      9096 non-null   float64\n",
      " 57  koi_srad_err2      9096 non-null   float64\n",
      " 58  koi_smass          9201 non-null   float64\n",
      " 59  koi_smass_err1     9096 non-null   float64\n",
      " 60  koi_smass_err2     9096 non-null   float64\n",
      " 61  ra                 9564 non-null   float64\n",
      " 62  dec                9564 non-null   float64\n",
      " 63  koi_kepmag         9563 non-null   float64\n",
      "dtypes: float64(54), int64(7), object(3)\n",
      "memory usage: 4.7+ MB\n"
     ]
    }
   ],
   "source": [
    "df = pd.read_csv('selectedData.csv')\n",
    "df.info()"
   ]
  },
  {
   "cell_type": "code",
   "execution_count": 53,
   "id": "56bface9",
   "metadata": {},
   "outputs": [
    {
     "name": "stdout",
     "output_type": "stream",
     "text": [
      "{'loc_rowid': 0, 'kepid': 0, 'koi_disposition': 0, 'koi_pdisposition': 0, 'koi_fpflag_nt': 0, 'koi_fpflag_ss': 0, 'koi_fpflag_co': 0, 'koi_fpflag_ec': 0, 'koi_period': 0, 'koi_period_err1': 454, 'koi_period_err2': 454, 'koi_eccen': 363, 'koi_impact': 363, 'koi_impact_err1': 454, 'koi_impact_err2': 454, 'koi_duration': 0, 'koi_duration_err1': 454, 'koi_duration_err2': 454, 'koi_depth': 363, 'koi_depth_err1': 454, 'koi_depth_err2': 454, 'koi_ror': 363, 'koi_ror_err1': 363, 'koi_ror_err2': 363, 'koi_srho': 321, 'koi_srho_err1': 321, 'koi_srho_err2': 321, 'koi_prad': 363, 'koi_prad_err1': 363, 'koi_prad_err2': 363, 'koi_sma': 363, 'koi_incl': 364, 'koi_teq': 363, 'koi_insol': 321, 'koi_insol_err1': 321, 'koi_insol_err2': 321, 'koi_dor': 363, 'koi_dor_err1': 454, 'koi_dor_err2': 454, 'koi_max_sngle_ev': 1142, 'koi_max_mult_ev': 1142, 'koi_model_snr': 363, 'koi_count': 0, 'koi_num_transits': 1142, 'koi_quarters': 1142, 'koi_bin_oedp_sig': 1510, 'koi_steff': 363, 'koi_steff_err1': 468, 'koi_steff_err2': 483, 'koi_slogg': 363, 'koi_slogg_err1': 468, 'koi_slogg_err2': 468, 'koi_smet': 386, 'koi_smet_err1': 387, 'koi_smet_err2': 387, 'koi_srad': 363, 'koi_srad_err1': 468, 'koi_srad_err2': 468, 'koi_smass': 363, 'koi_smass_err1': 468, 'koi_smass_err2': 468, 'ra': 0, 'dec': 0, 'koi_kepmag': 1}\n"
     ]
    }
   ],
   "source": [
    "print(df.isnull().sum().to_dict())"
   ]
  }
 ],
 "metadata": {
  "kernelspec": {
   "display_name": "venv",
   "language": "python",
   "name": "python3"
  },
  "language_info": {
   "name": "python",
   "version": "3.12.2"
  }
 },
 "nbformat": 4,
 "nbformat_minor": 5
}
